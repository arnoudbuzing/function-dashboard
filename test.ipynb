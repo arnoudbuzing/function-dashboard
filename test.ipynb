{
 "cells": [
  {
   "cell_type": "code",
   "execution_count": 11,
   "metadata": {},
   "outputs": [],
   "source": [
    "import inspect\n",
    "from scipy import *"
   ]
  },
  {
   "cell_type": "code",
   "execution_count": 12,
   "metadata": {},
   "outputs": [
    {
     "data": {
      "text/plain": [
       "[('alexandergovern',\n",
       "  <function scipy.stats._stats_py.alexandergovern(*samples, nan_policy='propagate', axis=0, keepdims=False)>),\n",
       " ('anderson', <function scipy.stats._morestats.anderson(x, dist='norm')>),\n",
       " ('anderson_ksamp',\n",
       "  <function scipy.stats._morestats.anderson_ksamp(samples, midrank=True, *, method=None)>),\n",
       " ('ansari',\n",
       "  <function scipy.stats._morestats.ansari(x, y, alternative='two-sided', *, axis=0, nan_policy='propagate', keepdims=False)>),\n",
       " ('barnard_exact',\n",
       "  <function scipy.stats._hypotests.barnard_exact(table, alternative='two-sided', pooled=True, n=32)>),\n",
       " ('bartlett',\n",
       "  <function scipy.stats._morestats.bartlett(*samples, axis=0, nan_policy='propagate', keepdims=False)>),\n",
       " ('bayes_mvs', <function scipy.stats._morestats.bayes_mvs(data, alpha=0.9)>),\n",
       " ('binned_statistic',\n",
       "  <function scipy.stats._binned_statistic.binned_statistic(x, values, statistic='mean', bins=10, range=None)>),\n",
       " ('binned_statistic_2d',\n",
       "  <function scipy.stats._binned_statistic.binned_statistic_2d(x, y, values, statistic='mean', bins=10, range=None, expand_binnumbers=False)>),\n",
       " ('binned_statistic_dd',\n",
       "  <function scipy.stats._binned_statistic.binned_statistic_dd(sample, values, statistic='mean', bins=10, range=None, expand_binnumbers=False, binned_statistic_result=None)>),\n",
       " ('binomtest',\n",
       "  <function scipy.stats._binomtest.binomtest(k, n, p=0.5, alternative='two-sided')>),\n",
       " ('bootstrap',\n",
       "  <function scipy.stats._resampling.bootstrap(data, statistic, *, n_resamples=9999, batch=None, vectorized=None, paired=False, axis=0, confidence_level=0.95, alternative='two-sided', method='BCa', bootstrap_result=None, random_state=None)>),\n",
       " ('boschloo_exact',\n",
       "  <function scipy.stats._hypotests.boschloo_exact(table, alternative='two-sided', n=32)>),\n",
       " ('boxcox',\n",
       "  <function scipy.stats._morestats.boxcox(x, lmbda=None, alpha=None, optimizer=None)>),\n",
       " ('boxcox_llf', <function scipy.stats._morestats.boxcox_llf(lmb, data)>),\n",
       " ('boxcox_normmax',\n",
       "  <function scipy.stats._morestats.boxcox_normmax(x, brack=None, method='pearsonr', optimizer=None, *, ymax=BIG_FLOAT)>),\n",
       " ('boxcox_normplot',\n",
       "  <function scipy.stats._morestats.boxcox_normplot(x, la, lb, plot=None, N=80)>),\n",
       " ('brunnermunzel',\n",
       "  <function scipy.stats._stats_py.brunnermunzel(x, y, alternative='two-sided', distribution='t', nan_policy='propagate', *, axis=0, keepdims=False)>),\n",
       " ('bws_test',\n",
       "  <function scipy.stats._bws_test.bws_test(x, y, *, alternative='two-sided', method=None)>),\n",
       " ('chi2_contingency',\n",
       "  <function scipy.stats.contingency.chi2_contingency(observed, correction=True, lambda_=None)>),\n",
       " ('chisquare',\n",
       "  <function scipy.stats._stats_py.chisquare(f_obs, f_exp=None, ddof=0, axis=0)>),\n",
       " ('circmean',\n",
       "  <function scipy.stats._morestats.circmean(samples, high=6.283185307179586, low=0, axis=None, nan_policy='propagate', *, keepdims=False)>),\n",
       " ('circstd',\n",
       "  <function scipy.stats._morestats.circstd(samples, high=6.283185307179586, low=0, axis=None, nan_policy='propagate', *, normalize=False, keepdims=False)>),\n",
       " ('circvar',\n",
       "  <function scipy.stats._morestats.circvar(samples, high=6.283185307179586, low=0, axis=None, nan_policy='propagate', *, keepdims=False)>),\n",
       " ('combine_pvalues',\n",
       "  <function scipy.stats._stats_py.combine_pvalues(pvalues, method='fisher', weights=None, *, axis=0, nan_policy='propagate', keepdims=False)>),\n",
       " ('cramervonmises',\n",
       "  <function scipy.stats._hypotests.cramervonmises(rvs, cdf, args=(), *, axis=0, nan_policy='propagate', keepdims=False)>),\n",
       " ('cramervonmises_2samp',\n",
       "  <function scipy.stats._hypotests.cramervonmises_2samp(x, y, method='auto', *, axis=0, nan_policy='propagate', keepdims=False)>),\n",
       " ('cumfreq',\n",
       "  <function scipy.stats._stats_py.cumfreq(a, numbins=10, defaultreallimits=None, weights=None)>),\n",
       " ('describe',\n",
       "  <function scipy.stats._stats_py.describe(a, axis=0, ddof=1, bias=True, nan_policy='propagate')>),\n",
       " ('differential_entropy',\n",
       "  <function scipy.stats._entropy.differential_entropy(values: 'np.typing.ArrayLike', *, window_length: 'int | None' = None, base: 'float | None' = None, axis: 'int' = 0, method: 'str' = 'auto', nan_policy='propagate', keepdims=False) -> 'np.number | np.ndarray'>),\n",
       " ('directional_stats',\n",
       "  <function scipy.stats._morestats.directional_stats(samples, *, axis=0, normalize=True)>),\n",
       " ('dunnett',\n",
       "  <function scipy.stats._multicomp.dunnett(*samples: 'npt.ArrayLike', control: 'npt.ArrayLike', alternative: \"Literal['two-sided', 'less', 'greater']\" = 'two-sided', random_state: 'SeedType' = None) -> 'DunnettResult'>),\n",
       " ('ecdf',\n",
       "  <function scipy.stats._survival.ecdf(sample: 'npt.ArrayLike | CensoredData') -> 'ECDFResult'>),\n",
       " ('energy_distance',\n",
       "  <function scipy.stats._stats_py.energy_distance(u_values, v_values, u_weights=None, v_weights=None)>),\n",
       " ('entropy',\n",
       "  <function scipy.stats._entropy.entropy(pk: 'np.typing.ArrayLike', qk: 'np.typing.ArrayLike | None' = None, base: 'float | None' = None, axis: 'int' = 0, *, nan_policy='propagate', keepdims=False) -> 'np.number | np.ndarray'>),\n",
       " ('epps_singleton_2samp',\n",
       "  <function scipy.stats._hypotests.epps_singleton_2samp(x, y, t=(0.4, 0.8), *, axis=0, nan_policy='propagate', keepdims=False)>),\n",
       " ('expectile',\n",
       "  <function scipy.stats._stats_py.expectile(a, alpha=0.5, *, weights=None)>),\n",
       " ('f_oneway',\n",
       "  <function scipy.stats._stats_py.f_oneway(*samples, axis=0, nan_policy='propagate', keepdims=False)>),\n",
       " ('false_discovery_control',\n",
       "  <function scipy.stats._morestats.false_discovery_control(ps, *, axis=0, method='bh')>),\n",
       " ('find_repeats', <function scipy.stats._stats_py.find_repeats(arr)>),\n",
       " ('fisher_exact',\n",
       "  <function scipy.stats._stats_py.fisher_exact(table, alternative='two-sided')>),\n",
       " ('fit',\n",
       "  <function scipy.stats._fit.fit(dist, data, bounds=None, *, guess=None, method='mle', optimizer=<function differential_evolution at 0x150f0d8a0>)>),\n",
       " ('fligner',\n",
       "  <function scipy.stats._morestats.fligner(*samples, center='median', proportiontocut=0.05, axis=0, nan_policy='propagate', keepdims=False)>),\n",
       " ('friedmanchisquare',\n",
       "  <function scipy.stats._stats_py.friedmanchisquare(*samples, axis=0, nan_policy='propagate', keepdims=False)>),\n",
       " ('gmean',\n",
       "  <function scipy.stats._stats_py.gmean(a, axis=0, dtype=None, weights=None, *, nan_policy='propagate', keepdims=False)>),\n",
       " ('goodness_of_fit',\n",
       "  <function scipy.stats._fit.goodness_of_fit(dist, data, *, known_params=None, fit_params=None, guessed_params=None, statistic='ad', n_mc_samples=9999, random_state=None)>),\n",
       " ('gstd', <function scipy.stats._stats_py.gstd(a, axis=0, ddof=1)>),\n",
       " ('gzscore',\n",
       "  <function scipy.stats._stats_py.gzscore(a, *, axis=0, ddof=0, nan_policy='propagate')>),\n",
       " ('hmean',\n",
       "  <function scipy.stats._stats_py.hmean(a, axis=0, dtype=None, *, weights=None, nan_policy='propagate', keepdims=False)>),\n",
       " ('iqr',\n",
       "  <function scipy.stats._stats_py.iqr(x, axis=None, rng=(25, 75), scale=1.0, nan_policy='propagate', interpolation='linear', keepdims=False)>),\n",
       " ('jarque_bera',\n",
       "  <function scipy.stats._stats_py.jarque_bera(x, *, axis=None, nan_policy='propagate', keepdims=False)>),\n",
       " ('kendalltau',\n",
       "  <function scipy.stats._stats_py.kendalltau(x, y, *, initial_lexsort=<object object at 0x11f0b83f0>, nan_policy='propagate', method='auto', variant='b', alternative='two-sided')>),\n",
       " ('kruskal',\n",
       "  <function scipy.stats._stats_py.kruskal(*samples, nan_policy='propagate', axis=0, keepdims=False)>),\n",
       " ('ks_1samp',\n",
       "  <function scipy.stats._stats_py.ks_1samp(x, cdf, args=(), alternative='two-sided', method='auto', *, axis=0, nan_policy='propagate', keepdims=False)>),\n",
       " ('ks_2samp',\n",
       "  <function scipy.stats._stats_py.ks_2samp(data1, data2, alternative='two-sided', method='auto', *, axis=0, nan_policy='propagate', keepdims=False)>),\n",
       " ('kstat',\n",
       "  <function scipy.stats._morestats.kstat(data, n=2, *, axis=None, nan_policy='propagate', keepdims=False)>),\n",
       " ('kstatvar',\n",
       "  <function scipy.stats._morestats.kstatvar(data, n=2, *, axis=None, nan_policy='propagate', keepdims=False)>),\n",
       " ('kstest',\n",
       "  <function scipy.stats._stats_py.kstest(rvs, cdf, args=(), N=20, alternative='two-sided', method='auto', *, axis=0, nan_policy='propagate', keepdims=False)>),\n",
       " ('kurtosis',\n",
       "  <function scipy.stats._stats_py.kurtosis(a, axis=0, fisher=True, bias=True, nan_policy='propagate', *, keepdims=False)>),\n",
       " ('kurtosistest',\n",
       "  <function scipy.stats._stats_py.kurtosistest(a, axis=0, nan_policy='propagate', alternative='two-sided', *, keepdims=False)>),\n",
       " ('levene',\n",
       "  <function scipy.stats._morestats.levene(*samples, center='median', proportiontocut=0.05, axis=0, nan_policy='propagate', keepdims=False)>),\n",
       " ('linregress',\n",
       "  <function scipy.stats._stats_mstats_common.linregress(x, y=None, alternative='two-sided')>),\n",
       " ('logrank',\n",
       "  <function scipy.stats._survival.logrank(x: 'npt.ArrayLike | CensoredData', y: 'npt.ArrayLike | CensoredData', alternative: \"Literal['two-sided', 'less', 'greater']\" = 'two-sided') -> 'LogRankResult'>),\n",
       " ('mannwhitneyu',\n",
       "  <function scipy.stats._mannwhitneyu.mannwhitneyu(x, y, use_continuity=True, alternative='two-sided', axis=0, method='auto', *, nan_policy='propagate', keepdims=False)>),\n",
       " ('median_abs_deviation',\n",
       "  <function scipy.stats._stats_py.median_abs_deviation(x, axis=0, center=<function median at 0x10840e930>, scale=1.0, nan_policy='propagate')>),\n",
       " ('median_test',\n",
       "  <function scipy.stats._morestats.median_test(*samples, ties='below', correction=True, lambda_=1, nan_policy='propagate')>),\n",
       " ('mode',\n",
       "  <function scipy.stats._stats_py.mode(a, axis=0, nan_policy='propagate', keepdims=False)>),\n",
       " ('moment',\n",
       "  <function scipy.stats._stats_py.moment(a, order=1, axis=0, nan_policy='propagate', *, center=None, keepdims=False)>),\n",
       " ('monte_carlo_test',\n",
       "  <function scipy.stats._resampling.monte_carlo_test(data, rvs, statistic, *, vectorized=None, n_resamples=9999, batch=None, alternative='two-sided', axis=0)>),\n",
       " ('mood',\n",
       "  <function scipy.stats._morestats.mood(x, y, axis=0, alternative='two-sided', *, nan_policy='propagate', keepdims=False)>),\n",
       " ('multiscale_graphcorr',\n",
       "  <function scipy.stats._stats_py.multiscale_graphcorr(x, y, compute_distance=<function _euclidean_dist at 0x161bf58a0>, reps=1000, workers=1, is_twosamp=False, random_state=None)>),\n",
       " ('mvsdist', <function scipy.stats._morestats.mvsdist(data)>),\n",
       " ('normaltest',\n",
       "  <function scipy.stats._stats_py.normaltest(a, axis=0, nan_policy='propagate', *, keepdims=False)>),\n",
       " ('obrientransform',\n",
       "  <function scipy.stats._stats_py.obrientransform(*samples)>),\n",
       " ('page_trend_test',\n",
       "  <function scipy.stats._page_trend_test.page_trend_test(data, ranked=False, predicted_ranks=None, method='auto')>),\n",
       " ('pearsonr',\n",
       "  <function scipy.stats._stats_py.pearsonr(x, y, *, alternative='two-sided', method=None)>),\n",
       " ('percentileofscore',\n",
       "  <function scipy.stats._stats_py.percentileofscore(a, score, kind='rank', nan_policy='propagate')>),\n",
       " ('permutation_test',\n",
       "  <function scipy.stats._resampling.permutation_test(data, statistic, *, permutation_type='independent', vectorized=None, n_resamples=9999, batch=None, alternative='two-sided', axis=0, random_state=None)>),\n",
       " ('pmean',\n",
       "  <function scipy.stats._stats_py.pmean(a, p, *, axis=0, dtype=None, weights=None, nan_policy='propagate', keepdims=False)>),\n",
       " ('pointbiserialr', <function scipy.stats._stats_py.pointbiserialr(x, y)>),\n",
       " ('poisson_means_test',\n",
       "  <function scipy.stats._hypotests.poisson_means_test(k1, n1, k2, n2, *, diff=0, alternative='two-sided')>),\n",
       " ('power_divergence',\n",
       "  <function scipy.stats._stats_py.power_divergence(f_obs, f_exp=None, ddof=0, axis=0, lambda_=None)>),\n",
       " ('ppcc_max',\n",
       "  <function scipy.stats._morestats.ppcc_max(x, brack=(0.0, 1.0), dist='tukeylambda')>),\n",
       " ('ppcc_plot',\n",
       "  <function scipy.stats._morestats.ppcc_plot(x, a, b, dist='tukeylambda', plot=None, N=80)>),\n",
       " ('probplot',\n",
       "  <function scipy.stats._morestats.probplot(x, sparams=(), dist='norm', fit=True, plot=None, rvalue=False)>),\n",
       " ('quantile_test',\n",
       "  <function scipy.stats._stats_py.quantile_test(x, *, q=0, p=0.5, alternative='two-sided')>),\n",
       " ('rankdata',\n",
       "  <function scipy.stats._stats_py.rankdata(a, method='average', *, axis=None, nan_policy='propagate')>),\n",
       " ('ranksums',\n",
       "  <function scipy.stats._stats_py.ranksums(x, y, alternative='two-sided', *, axis=0, nan_policy='propagate', keepdims=False)>),\n",
       " ('relfreq',\n",
       "  <function scipy.stats._stats_py.relfreq(a, numbins=10, defaultreallimits=None, weights=None)>),\n",
       " ('rvs_ratio_uniforms',\n",
       "  <function scipy.stats._rvs_sampling.rvs_ratio_uniforms(pdf, umax, vmin, vmax, size=1, c=0, random_state=None)>),\n",
       " ('scoreatpercentile',\n",
       "  <function scipy.stats._stats_py.scoreatpercentile(a, per, limit=(), interpolation_method='fraction', axis=None)>),\n",
       " ('sem',\n",
       "  <function scipy.stats._stats_py.sem(a, axis=0, ddof=1, nan_policy='propagate', *, keepdims=False)>),\n",
       " ('shapiro',\n",
       "  <function scipy.stats._morestats.shapiro(x, *, axis=None, nan_policy='propagate', keepdims=False)>),\n",
       " ('siegelslopes',\n",
       "  <function scipy.stats._stats_mstats_common.siegelslopes(y, x=None, method='hierarchical')>),\n",
       " ('sigmaclip',\n",
       "  <function scipy.stats._stats_py.sigmaclip(a, low=4.0, high=4.0)>),\n",
       " ('skew',\n",
       "  <function scipy.stats._stats_py.skew(a, axis=0, bias=True, nan_policy='propagate', *, keepdims=False)>),\n",
       " ('skewtest',\n",
       "  <function scipy.stats._stats_py.skewtest(a, axis=0, nan_policy='propagate', alternative='two-sided', *, keepdims=False)>),\n",
       " ('sobol_indices',\n",
       "  <function scipy.stats._sensitivity_analysis.sobol_indices(*, func: \"Callable[[np.ndarray], npt.ArrayLike] | dict[Literal['f_A', 'f_B', 'f_AB'], np.ndarray]\", n: 'IntNumber', dists: 'list[PPFDist] | None' = None, method: \"Callable | Literal['saltelli_2010']\" = 'saltelli_2010', random_state: 'SeedType' = None) -> 'SobolResult'>),\n",
       " ('somersd',\n",
       "  <function scipy.stats._hypotests.somersd(x, y=None, alternative='two-sided')>),\n",
       " ('spearmanr',\n",
       "  <function scipy.stats._stats_py.spearmanr(a, b=None, axis=0, nan_policy='propagate', alternative='two-sided')>),\n",
       " ('theilslopes',\n",
       "  <function scipy.stats._stats_mstats_common.theilslopes(y, x=None, alpha=0.95, method='separate')>),\n",
       " ('tiecorrect', <function scipy.stats._stats_py.tiecorrect(rankvals)>),\n",
       " ('tmax',\n",
       "  <function scipy.stats._stats_py.tmax(a, upperlimit=None, axis=0, inclusive=True, nan_policy='propagate', *, keepdims=False)>),\n",
       " ('tmean',\n",
       "  <function scipy.stats._stats_py.tmean(a, limits=None, inclusive=(True, True), axis=None, *, nan_policy='propagate', keepdims=False)>),\n",
       " ('tmin',\n",
       "  <function scipy.stats._stats_py.tmin(a, lowerlimit=None, axis=0, inclusive=True, nan_policy='propagate', *, keepdims=False)>),\n",
       " ('trim1',\n",
       "  <function scipy.stats._stats_py.trim1(a, proportiontocut, tail='right', axis=0)>),\n",
       " ('trim_mean',\n",
       "  <function scipy.stats._stats_py.trim_mean(a, proportiontocut, axis=0)>),\n",
       " ('trimboth',\n",
       "  <function scipy.stats._stats_py.trimboth(a, proportiontocut, axis=0)>),\n",
       " ('tsem',\n",
       "  <function scipy.stats._stats_py.tsem(a, limits=None, inclusive=(True, True), axis=0, ddof=1, *, nan_policy='propagate', keepdims=False)>),\n",
       " ('tstd',\n",
       "  <function scipy.stats._stats_py.tstd(a, limits=None, inclusive=(True, True), axis=0, ddof=1, *, nan_policy='propagate', keepdims=False)>),\n",
       " ('ttest_1samp',\n",
       "  <function scipy.stats._stats_py.ttest_1samp(a, popmean, axis=0, nan_policy='propagate', alternative='two-sided', *, keepdims=False)>),\n",
       " ('ttest_ind',\n",
       "  <function scipy.stats._stats_py.ttest_ind(a, b, axis=0, equal_var=True, nan_policy='propagate', permutations=None, random_state=None, alternative='two-sided', trim=0, *, keepdims=False)>),\n",
       " ('ttest_ind_from_stats',\n",
       "  <function scipy.stats._stats_py.ttest_ind_from_stats(mean1, std1, nobs1, mean2, std2, nobs2, equal_var=True, alternative='two-sided')>),\n",
       " ('ttest_rel',\n",
       "  <function scipy.stats._stats_py.ttest_rel(a, b, axis=0, nan_policy='propagate', alternative='two-sided', *, keepdims=False)>),\n",
       " ('tukey_hsd', <function scipy.stats._hypotests.tukey_hsd(*args)>),\n",
       " ('tvar',\n",
       "  <function scipy.stats._stats_py.tvar(a, limits=None, inclusive=(True, True), axis=0, ddof=1, *, nan_policy='propagate', keepdims=False)>),\n",
       " ('variation',\n",
       "  <function scipy.stats._variation.variation(a, axis=0, nan_policy='propagate', ddof=0, *, keepdims=False)>),\n",
       " ('wasserstein_distance',\n",
       "  <function scipy.stats._stats_py.wasserstein_distance(u_values, v_values, u_weights=None, v_weights=None)>),\n",
       " ('wasserstein_distance_nd',\n",
       "  <function scipy.stats._stats_py.wasserstein_distance_nd(u_values, v_values, u_weights=None, v_weights=None)>),\n",
       " ('weightedtau',\n",
       "  <function scipy.stats._stats_py.weightedtau(x, y, rank=True, weigher=None, additive=True)>),\n",
       " ('wilcoxon',\n",
       "  <function scipy.stats._morestats.wilcoxon(x, y=None, zero_method='wilcox', correction=False, alternative='two-sided', method='auto', *, axis=0, nan_policy='propagate', keepdims=False)>),\n",
       " ('yeojohnson', <function scipy.stats._morestats.yeojohnson(x, lmbda=None)>),\n",
       " ('yeojohnson_llf',\n",
       "  <function scipy.stats._morestats.yeojohnson_llf(lmb, data)>),\n",
       " ('yeojohnson_normmax',\n",
       "  <function scipy.stats._morestats.yeojohnson_normmax(x, brack=None)>),\n",
       " ('yeojohnson_normplot',\n",
       "  <function scipy.stats._morestats.yeojohnson_normplot(x, la, lb, plot=None, N=80)>),\n",
       " ('zmap',\n",
       "  <function scipy.stats._stats_py.zmap(scores, compare, axis=0, ddof=0, nan_policy='propagate')>),\n",
       " ('zscore',\n",
       "  <function scipy.stats._stats_py.zscore(a, axis=0, ddof=0, nan_policy='propagate')>)]"
      ]
     },
     "execution_count": 12,
     "metadata": {},
     "output_type": "execute_result"
    }
   ],
   "source": [
    "inspect.getmembers(scipy.stats, inspect.isfunction)"
   ]
  },
  {
   "cell_type": "code",
   "execution_count": 13,
   "metadata": {},
   "outputs": [],
   "source": [
    "import pkgutil"
   ]
  },
  {
   "cell_type": "code",
   "execution_count": 17,
   "metadata": {},
   "outputs": [],
   "source": [
    "import importlib\n",
    "\n",
    "def import_submodules(package, recursive=True):\n",
    "    \"\"\" Import all submodules of a module, recursively, including subpackages\n",
    "\n",
    "    :param package: package (name or actual module)\n",
    "    :type package: str | module\n",
    "    :rtype: dict[str, types.ModuleType]\n",
    "    \"\"\"\n",
    "    if isinstance(package, str):\n",
    "        package = importlib.import_module(package)\n",
    "    results = {}\n",
    "    for loader, name, is_pkg in pkgutil.walk_packages(package.__path__):\n",
    "        full_name = package.__name__ + '.' + name\n",
    "        try:\n",
    "            results[full_name] = importlib.import_module(full_name)\n",
    "        except ModuleNotFoundError:\n",
    "            continue\n",
    "        if recursive and is_pkg:\n",
    "            results.update(import_submodules(full_name))\n",
    "    return results"
   ]
  },
  {
   "cell_type": "code",
   "execution_count": 18,
   "metadata": {},
   "outputs": [
    {
     "name": "stderr",
     "output_type": "stream",
     "text": [
      "/Library/Frameworks/Python.framework/Versions/3.12/lib/python3.12/importlib/__init__.py:90: DeprecationWarning: `scipy._lib._test_deprecation_def.foo_deprecated` is deprecated, use `foo` instead!\n",
      "Deprecated in Scipy 42.0.0\n",
      "  return _bootstrap._gcd_import(name[level:], package, level)\n"
     ]
    },
    {
     "ename": "AttributeError",
     "evalue": "module 'scipy._lib.array_api_compat.numpy._typing' has no attribute '__path__'",
     "output_type": "error",
     "traceback": [
      "\u001b[0;31m---------------------------------------------------------------------------\u001b[0m",
      "\u001b[0;31mAttributeError\u001b[0m                            Traceback (most recent call last)",
      "Cell \u001b[0;32mIn[18], line 1\u001b[0m\n\u001b[0;32m----> 1\u001b[0m \u001b[43mimport_submodules\u001b[49m\u001b[43m(\u001b[49m\u001b[43mscipy\u001b[49m\u001b[43m)\u001b[49m\n",
      "Cell \u001b[0;32mIn[17], line 20\u001b[0m, in \u001b[0;36mimport_submodules\u001b[0;34m(package, recursive)\u001b[0m\n\u001b[1;32m     18\u001b[0m         \u001b[38;5;28;01mcontinue\u001b[39;00m\n\u001b[1;32m     19\u001b[0m     \u001b[38;5;28;01mif\u001b[39;00m recursive \u001b[38;5;129;01mand\u001b[39;00m is_pkg:\n\u001b[0;32m---> 20\u001b[0m         results\u001b[38;5;241m.\u001b[39mupdate(\u001b[43mimport_submodules\u001b[49m\u001b[43m(\u001b[49m\u001b[43mfull_name\u001b[49m\u001b[43m)\u001b[49m)\n\u001b[1;32m     21\u001b[0m \u001b[38;5;28;01mreturn\u001b[39;00m results\n",
      "Cell \u001b[0;32mIn[17], line 20\u001b[0m, in \u001b[0;36mimport_submodules\u001b[0;34m(package, recursive)\u001b[0m\n\u001b[1;32m     18\u001b[0m         \u001b[38;5;28;01mcontinue\u001b[39;00m\n\u001b[1;32m     19\u001b[0m     \u001b[38;5;28;01mif\u001b[39;00m recursive \u001b[38;5;129;01mand\u001b[39;00m is_pkg:\n\u001b[0;32m---> 20\u001b[0m         results\u001b[38;5;241m.\u001b[39mupdate(\u001b[43mimport_submodules\u001b[49m\u001b[43m(\u001b[49m\u001b[43mfull_name\u001b[49m\u001b[43m)\u001b[49m)\n\u001b[1;32m     21\u001b[0m \u001b[38;5;28;01mreturn\u001b[39;00m results\n",
      "Cell \u001b[0;32mIn[17], line 20\u001b[0m, in \u001b[0;36mimport_submodules\u001b[0;34m(package, recursive)\u001b[0m\n\u001b[1;32m     18\u001b[0m         \u001b[38;5;28;01mcontinue\u001b[39;00m\n\u001b[1;32m     19\u001b[0m     \u001b[38;5;28;01mif\u001b[39;00m recursive \u001b[38;5;129;01mand\u001b[39;00m is_pkg:\n\u001b[0;32m---> 20\u001b[0m         results\u001b[38;5;241m.\u001b[39mupdate(\u001b[43mimport_submodules\u001b[49m\u001b[43m(\u001b[49m\u001b[43mfull_name\u001b[49m\u001b[43m)\u001b[49m)\n\u001b[1;32m     21\u001b[0m \u001b[38;5;28;01mreturn\u001b[39;00m results\n",
      "Cell \u001b[0;32mIn[17], line 13\u001b[0m, in \u001b[0;36mimport_submodules\u001b[0;34m(package, recursive)\u001b[0m\n\u001b[1;32m     11\u001b[0m     package \u001b[38;5;241m=\u001b[39m importlib\u001b[38;5;241m.\u001b[39mimport_module(package)\n\u001b[1;32m     12\u001b[0m results \u001b[38;5;241m=\u001b[39m {}\n\u001b[0;32m---> 13\u001b[0m \u001b[38;5;28;01mfor\u001b[39;00m loader, name, is_pkg \u001b[38;5;129;01min\u001b[39;00m pkgutil\u001b[38;5;241m.\u001b[39mwalk_packages(\u001b[43mpackage\u001b[49m\u001b[38;5;241;43m.\u001b[39;49m\u001b[43m__path__\u001b[49m):\n\u001b[1;32m     14\u001b[0m     full_name \u001b[38;5;241m=\u001b[39m package\u001b[38;5;241m.\u001b[39m\u001b[38;5;18m__name__\u001b[39m \u001b[38;5;241m+\u001b[39m \u001b[38;5;124m'\u001b[39m\u001b[38;5;124m.\u001b[39m\u001b[38;5;124m'\u001b[39m \u001b[38;5;241m+\u001b[39m name\n\u001b[1;32m     15\u001b[0m     \u001b[38;5;28;01mtry\u001b[39;00m:\n",
      "\u001b[0;31mAttributeError\u001b[0m: module 'scipy._lib.array_api_compat.numpy._typing' has no attribute '__path__'"
     ]
    }
   ],
   "source": [
    "import_submodules(scipy)"
   ]
  },
  {
   "cell_type": "code",
   "execution_count": 30,
   "metadata": {},
   "outputs": [],
   "source": [
    "obj = pkgutil.walk_packages(scipy)"
   ]
  },
  {
   "cell_type": "code",
   "execution_count": 31,
   "metadata": {},
   "outputs": [
    {
     "data": {
      "text/plain": [
       "<generator object walk_packages at 0x1642d4bf0>"
      ]
     },
     "execution_count": 31,
     "metadata": {},
     "output_type": "execute_result"
    }
   ],
   "source": [
    "obj"
   ]
  },
  {
   "cell_type": "code",
   "execution_count": 29,
   "metadata": {},
   "outputs": [
    {
     "ename": "StopIteration",
     "evalue": "",
     "output_type": "error",
     "traceback": [
      "\u001b[0;31m---------------------------------------------------------------------------\u001b[0m",
      "\u001b[0;31mStopIteration\u001b[0m                             Traceback (most recent call last)",
      "Cell \u001b[0;32mIn[29], line 1\u001b[0m\n\u001b[0;32m----> 1\u001b[0m \u001b[43mobj\u001b[49m\u001b[38;5;241;43m.\u001b[39;49m\u001b[38;5;21;43m__next__\u001b[39;49m\u001b[43m(\u001b[49m\u001b[43m)\u001b[49m\n",
      "\u001b[0;31mStopIteration\u001b[0m: "
     ]
    }
   ],
   "source": []
  },
  {
   "cell_type": "code",
   "execution_count": 38,
   "metadata": {},
   "outputs": [
    {
     "ename": "ValueError",
     "evalue": "path must be None or list of paths to look for modules in",
     "output_type": "error",
     "traceback": [
      "\u001b[0;31m---------------------------------------------------------------------------\u001b[0m",
      "\u001b[0;31mValueError\u001b[0m                                Traceback (most recent call last)",
      "Cell \u001b[0;32mIn[38], line 1\u001b[0m\n\u001b[0;32m----> 1\u001b[0m \u001b[38;5;28;43;01mfor\u001b[39;49;00m\u001b[43m \u001b[49m\u001b[43mmodule\u001b[49m\u001b[43m \u001b[49m\u001b[38;5;129;43;01min\u001b[39;49;00m\u001b[43m \u001b[49m\u001b[43mpkgutil\u001b[49m\u001b[38;5;241;43m.\u001b[39;49m\u001b[43mwalk_packages\u001b[49m\u001b[43m(\u001b[49m\u001b[38;5;124;43m'\u001b[39;49m\u001b[38;5;124;43mhypernetx\u001b[39;49m\u001b[38;5;124;43m'\u001b[39;49m\u001b[43m)\u001b[49m\u001b[43m:\u001b[49m\n\u001b[1;32m      2\u001b[0m \u001b[43m    \u001b[49m\u001b[38;5;28;43mprint\u001b[39;49m\u001b[43m(\u001b[49m\u001b[43mmodule\u001b[49m\u001b[38;5;241;43m.\u001b[39;49m\u001b[43mname\u001b[49m\u001b[43m)\u001b[49m\n",
      "File \u001b[0;32m/Library/Frameworks/Python.framework/Versions/3.12/lib/python3.12/pkgutil.py:73\u001b[0m, in \u001b[0;36mwalk_packages\u001b[0;34m(path, prefix, onerror)\u001b[0m\n\u001b[1;32m     70\u001b[0m         \u001b[38;5;28;01mreturn\u001b[39;00m \u001b[38;5;28;01mTrue\u001b[39;00m\n\u001b[1;32m     71\u001b[0m     m[p] \u001b[38;5;241m=\u001b[39m \u001b[38;5;28;01mTrue\u001b[39;00m\n\u001b[0;32m---> 73\u001b[0m \u001b[43m\u001b[49m\u001b[38;5;28;43;01mfor\u001b[39;49;00m\u001b[43m \u001b[49m\u001b[43minfo\u001b[49m\u001b[43m \u001b[49m\u001b[38;5;129;43;01min\u001b[39;49;00m\u001b[43m \u001b[49m\u001b[43miter_modules\u001b[49m\u001b[43m(\u001b[49m\u001b[43mpath\u001b[49m\u001b[43m,\u001b[49m\u001b[43m \u001b[49m\u001b[43mprefix\u001b[49m\u001b[43m)\u001b[49m\u001b[43m:\u001b[49m\n\u001b[1;32m     74\u001b[0m \u001b[43m    \u001b[49m\u001b[38;5;28;43;01myield\u001b[39;49;00m\u001b[43m \u001b[49m\u001b[43minfo\u001b[49m\n\u001b[1;32m     76\u001b[0m \u001b[43m    \u001b[49m\u001b[38;5;28;43;01mif\u001b[39;49;00m\u001b[43m \u001b[49m\u001b[43minfo\u001b[49m\u001b[38;5;241;43m.\u001b[39;49m\u001b[43mispkg\u001b[49m\u001b[43m:\u001b[49m\n",
      "File \u001b[0;32m/Library/Frameworks/Python.framework/Versions/3.12/lib/python3.12/pkgutil.py:109\u001b[0m, in \u001b[0;36miter_modules\u001b[0;34m(path, prefix)\u001b[0m\n\u001b[1;32m    107\u001b[0m     importers \u001b[38;5;241m=\u001b[39m iter_importers()\n\u001b[1;32m    108\u001b[0m \u001b[38;5;28;01melif\u001b[39;00m \u001b[38;5;28misinstance\u001b[39m(path, \u001b[38;5;28mstr\u001b[39m):\n\u001b[0;32m--> 109\u001b[0m     \u001b[38;5;28;01mraise\u001b[39;00m \u001b[38;5;167;01mValueError\u001b[39;00m(\u001b[38;5;124m\"\u001b[39m\u001b[38;5;124mpath must be None or list of paths to look for \u001b[39m\u001b[38;5;124m\"\u001b[39m\n\u001b[1;32m    110\u001b[0m                     \u001b[38;5;124m\"\u001b[39m\u001b[38;5;124mmodules in\u001b[39m\u001b[38;5;124m\"\u001b[39m)\n\u001b[1;32m    111\u001b[0m \u001b[38;5;28;01melse\u001b[39;00m:\n\u001b[1;32m    112\u001b[0m     importers \u001b[38;5;241m=\u001b[39m \u001b[38;5;28mmap\u001b[39m(get_importer, path)\n",
      "\u001b[0;31mValueError\u001b[0m: path must be None or list of paths to look for modules in"
     ]
    }
   ],
   "source": [
    "for module in pkgutil.walk_packages('hypernetx'):\n",
    "    print(module.name)"
   ]
  },
  {
   "cell_type": "code",
   "execution_count": 39,
   "metadata": {},
   "outputs": [
    {
     "name": "stderr",
     "output_type": "stream",
     "text": [
      "/var/folders/z0/wzlwqby178325kw6bhv2s1xr0000gn/T/ipykernel_33633/1177133621.py:1: DeprecationWarning: 'pkgutil.get_loader' is deprecated and slated for removal in Python 3.14; use importlib.util.find_spec() instead\n",
      "  pkgutil.get_loader('hypernetx')\n"
     ]
    },
    {
     "data": {
      "text/plain": [
       "<_frozen_importlib_external.SourceFileLoader at 0x108069fa0>"
      ]
     },
     "execution_count": 39,
     "metadata": {},
     "output_type": "execute_result"
    }
   ],
   "source": [
    "pkgutil.get_loader('hypernetx')"
   ]
  },
  {
   "cell_type": "code",
   "execution_count": 44,
   "metadata": {},
   "outputs": [
    {
     "ename": "ValueError",
     "evalue": "path must be None or list of paths to look for modules in",
     "output_type": "error",
     "traceback": [
      "\u001b[0;31m---------------------------------------------------------------------------\u001b[0m",
      "\u001b[0;31mValueError\u001b[0m                                Traceback (most recent call last)",
      "Cell \u001b[0;32mIn[44], line 1\u001b[0m\n\u001b[0;32m----> 1\u001b[0m \u001b[38;5;28;43;01mfor\u001b[39;49;00m\u001b[43m \u001b[49m\u001b[43mxx\u001b[49m\u001b[43m \u001b[49m\u001b[38;5;129;43;01min\u001b[39;49;00m\u001b[43m \u001b[49m\u001b[43mpkgutil\u001b[49m\u001b[38;5;241;43m.\u001b[39;49m\u001b[43mwalk_packages\u001b[49m\u001b[43m(\u001b[49m\u001b[38;5;124;43m'\u001b[39;49m\u001b[38;5;124;43m.venv/lib/python3.12/site-packages/hypernetx\u001b[39;49m\u001b[38;5;124;43m'\u001b[39;49m\u001b[43m)\u001b[49m\u001b[43m:\u001b[49m\n\u001b[1;32m      2\u001b[0m \u001b[43m    \u001b[49m\u001b[38;5;28;43mprint\u001b[39;49m\u001b[43m(\u001b[49m\u001b[43mxx\u001b[49m\u001b[38;5;241;43m.\u001b[39;49m\u001b[43mname\u001b[49m\u001b[43m)\u001b[49m\n",
      "File \u001b[0;32m/Library/Frameworks/Python.framework/Versions/3.12/lib/python3.12/pkgutil.py:73\u001b[0m, in \u001b[0;36mwalk_packages\u001b[0;34m(path, prefix, onerror)\u001b[0m\n\u001b[1;32m     70\u001b[0m         \u001b[38;5;28;01mreturn\u001b[39;00m \u001b[38;5;28;01mTrue\u001b[39;00m\n\u001b[1;32m     71\u001b[0m     m[p] \u001b[38;5;241m=\u001b[39m \u001b[38;5;28;01mTrue\u001b[39;00m\n\u001b[0;32m---> 73\u001b[0m \u001b[43m\u001b[49m\u001b[38;5;28;43;01mfor\u001b[39;49;00m\u001b[43m \u001b[49m\u001b[43minfo\u001b[49m\u001b[43m \u001b[49m\u001b[38;5;129;43;01min\u001b[39;49;00m\u001b[43m \u001b[49m\u001b[43miter_modules\u001b[49m\u001b[43m(\u001b[49m\u001b[43mpath\u001b[49m\u001b[43m,\u001b[49m\u001b[43m \u001b[49m\u001b[43mprefix\u001b[49m\u001b[43m)\u001b[49m\u001b[43m:\u001b[49m\n\u001b[1;32m     74\u001b[0m \u001b[43m    \u001b[49m\u001b[38;5;28;43;01myield\u001b[39;49;00m\u001b[43m \u001b[49m\u001b[43minfo\u001b[49m\n\u001b[1;32m     76\u001b[0m \u001b[43m    \u001b[49m\u001b[38;5;28;43;01mif\u001b[39;49;00m\u001b[43m \u001b[49m\u001b[43minfo\u001b[49m\u001b[38;5;241;43m.\u001b[39;49m\u001b[43mispkg\u001b[49m\u001b[43m:\u001b[49m\n",
      "File \u001b[0;32m/Library/Frameworks/Python.framework/Versions/3.12/lib/python3.12/pkgutil.py:109\u001b[0m, in \u001b[0;36miter_modules\u001b[0;34m(path, prefix)\u001b[0m\n\u001b[1;32m    107\u001b[0m     importers \u001b[38;5;241m=\u001b[39m iter_importers()\n\u001b[1;32m    108\u001b[0m \u001b[38;5;28;01melif\u001b[39;00m \u001b[38;5;28misinstance\u001b[39m(path, \u001b[38;5;28mstr\u001b[39m):\n\u001b[0;32m--> 109\u001b[0m     \u001b[38;5;28;01mraise\u001b[39;00m \u001b[38;5;167;01mValueError\u001b[39;00m(\u001b[38;5;124m\"\u001b[39m\u001b[38;5;124mpath must be None or list of paths to look for \u001b[39m\u001b[38;5;124m\"\u001b[39m\n\u001b[1;32m    110\u001b[0m                     \u001b[38;5;124m\"\u001b[39m\u001b[38;5;124mmodules in\u001b[39m\u001b[38;5;124m\"\u001b[39m)\n\u001b[1;32m    111\u001b[0m \u001b[38;5;28;01melse\u001b[39;00m:\n\u001b[1;32m    112\u001b[0m     importers \u001b[38;5;241m=\u001b[39m \u001b[38;5;28mmap\u001b[39m(get_importer, path)\n",
      "\u001b[0;31mValueError\u001b[0m: path must be None or list of paths to look for modules in"
     ]
    }
   ],
   "source": [
    "for xx in pkgutil.walk_packages('.venv/lib/python3.12/site-packages/hypernetx'):\n",
    "    print(xx.name)"
   ]
  },
  {
   "cell_type": "code",
   "execution_count": 45,
   "metadata": {},
   "outputs": [
    {
     "ename": "TypeError",
     "evalue": "get_data() missing 1 required positional argument: 'resource'",
     "output_type": "error",
     "traceback": [
      "\u001b[0;31m---------------------------------------------------------------------------\u001b[0m",
      "\u001b[0;31mTypeError\u001b[0m                                 Traceback (most recent call last)",
      "Cell \u001b[0;32mIn[45], line 1\u001b[0m\n\u001b[0;32m----> 1\u001b[0m \u001b[43mpkgutil\u001b[49m\u001b[38;5;241;43m.\u001b[39;49m\u001b[43mget_data\u001b[49m\u001b[43m(\u001b[49m\u001b[38;5;124;43m'\u001b[39;49m\u001b[38;5;124;43mhypernetx\u001b[39;49m\u001b[38;5;124;43m'\u001b[39;49m\u001b[43m)\u001b[49m\n",
      "\u001b[0;31mTypeError\u001b[0m: get_data() missing 1 required positional argument: 'resource'"
     ]
    }
   ],
   "source": [
    "pkgutil.get_data('hypernetx')"
   ]
  },
  {
   "cell_type": "code",
   "execution_count": 46,
   "metadata": {},
   "outputs": [
    {
     "data": {
      "text/plain": [
       "<module 'hypernetx' from '/Users/arnoudb/function-dashboard/.venv/lib/python3.12/site-packages/hypernetx/__init__.py'>"
      ]
     },
     "execution_count": 46,
     "metadata": {},
     "output_type": "execute_result"
    }
   ],
   "source": [
    "pkgutil.resolve_name('hypernetx')"
   ]
  },
  {
   "cell_type": "code",
   "execution_count": 47,
   "metadata": {},
   "outputs": [
    {
     "name": "stderr",
     "output_type": "stream",
     "text": [
      "/Library/Frameworks/Python.framework/Versions/3.12/lib/python3.12/pty.py:95: DeprecationWarning: This process (pid=33633) is multi-threaded, use of forkpty() may lead to deadlocks in the child.\n",
      "  pid, fd = os.forkpty()\n"
     ]
    },
    {
     "name": "stdout",
     "output_type": "stream",
     "text": [
      "Requirement already satisfied: scipy in ./.venv/lib/python3.12/site-packages (1.13.0)\n",
      "Requirement already satisfied: numpy<2.3,>=1.22.4 in ./.venv/lib/python3.12/site-packages (from scipy) (1.26.4)\n",
      "Note: you may need to restart the kernel to use updated packages.\n"
     ]
    }
   ],
   "source": [
    "pip install scipy"
   ]
  },
  {
   "cell_type": "code",
   "execution_count": 6,
   "metadata": {},
   "outputs": [
    {
     "data": {
      "text/plain": [
       "['algorithms',\n",
       " 'classes',\n",
       " 'drawing',\n",
       " 'exception',\n",
       " 'read_write',\n",
       " 'reports',\n",
       " 'utils']"
      ]
     },
     "execution_count": 6,
     "metadata": {},
     "output_type": "execute_result"
    }
   ],
   "source": [
    "import inspect\n",
    "import hypernetx\n",
    "modules = inspect.getmembers(hypernetx, inspect.ismodule)\n",
    "[ m[0] for m in modules]"
   ]
  },
  {
   "cell_type": "code",
   "execution_count": 4,
   "metadata": {},
   "outputs": [],
   "source": [
    "import scipy\n",
    "import hypernetx\n",
    "import inspect"
   ]
  },
  {
   "cell_type": "code",
   "execution_count": 5,
   "metadata": {},
   "outputs": [
    {
     "data": {
      "text/plain": [
       "[('Gillespie_SIR',\n",
       "  <function hypernetx.algorithms.contagion.Gillespie_SIR(H, tau, gamma, transmission_function=<function threshold at 0x1428cf920>, initial_infecteds=None, initial_recovereds=None, rho=None, tmin=0, tmax=inf, **args)>),\n",
       " ('Gillespie_SIS',\n",
       "  <function hypernetx.algorithms.contagion.Gillespie_SIS(H, tau, gamma, transmission_function=<function threshold at 0x1428cf920>, initial_infecteds=None, rho=None, tmin=0, tmax=inf, return_full_data=False, sim_kwargs=None, **args)>),\n",
       " ('add_to_column',\n",
       "  <function hypernetx.algorithms.homology_mod2.add_to_column(M, i, j)>),\n",
       " ('add_to_row',\n",
       "  <function hypernetx.algorithms.homology_mod2.add_to_row(M, i, j)>),\n",
       " ('betti', <function hypernetx.algorithms.homology_mod2.betti(bd, k=None)>),\n",
       " ('betti_numbers',\n",
       "  <function hypernetx.algorithms.homology_mod2.betti_numbers(h, k=None)>),\n",
       " ('bkMatrix',\n",
       "  <function hypernetx.algorithms.homology_mod2.bkMatrix(km1basis, kbasis)>),\n",
       " ('book_tour',\n",
       "  <function hypernetx.utils.toys.lesmis.book_tour(df, xlabel='Book', ylabel='Volume', s=3.5)>),\n",
       " ('boundary_group',\n",
       "  <function hypernetx.algorithms.homology_mod2.boundary_group(image_basis)>),\n",
       " ('centrality_stats',\n",
       "  <function hypernetx.reports.descriptive_stats.centrality_stats(X)>),\n",
       " ('chain_complex',\n",
       "  <function hypernetx.algorithms.homology_mod2.chain_complex(h, k=None)>),\n",
       " ('chung_lu_hypergraph',\n",
       "  <function hypernetx.algorithms.generative_models.chung_lu_hypergraph(k1, k2)>),\n",
       " ('collective_contagion',\n",
       "  <function hypernetx.algorithms.contagion.collective_contagion(node, status, edge)>),\n",
       " ('comp_dist',\n",
       "  <function hypernetx.reports.descriptive_stats.comp_dist(H, aggregated=False)>),\n",
       " ('contagion_animation',\n",
       "  <function hypernetx.algorithms.contagion.contagion_animation(fig, H, transition_events, node_state_color_dict, edge_state_color_dict, node_radius=1, fps=1)>),\n",
       " ('create_labels',\n",
       "  <function hypernetx.utils.extras.create_labels(num_edges, num_nodes, edgeprefix='e', nodeprefix='v', edgelabel='Edges', nodelabel='Nodes')>),\n",
       " ('dcsbm_hypergraph',\n",
       "  <function hypernetx.algorithms.generative_models.dcsbm_hypergraph(k1, k2, g1, g2, omega)>),\n",
       " ('degree_dist',\n",
       "  <function hypernetx.reports.descriptive_stats.degree_dist(H, aggregated=False)>),\n",
       " ('dict2part',\n",
       "  <function hypernetx.algorithms.hypergraph_modularity.dict2part(D)>),\n",
       " ('discrete_SIR',\n",
       "  <function hypernetx.algorithms.contagion.discrete_SIR(H, tau, gamma, transmission_function=<function threshold at 0x1428cf920>, initial_infecteds=None, initial_recovereds=None, rho=None, tmin=0, tmax=inf, dt=1.0, return_full_data=False, **args)>),\n",
       " ('discrete_SIS',\n",
       "  <function hypernetx.algorithms.contagion.discrete_SIS(H, tau, gamma, transmission_function=<function threshold at 0x1428cf920>, initial_infecteds=None, rho=None, tmin=0, tmax=100, dt=1.0, return_full_data=False, **args)>),\n",
       " ('dist_stats', <function hypernetx.reports.descriptive_stats.dist_stats(H)>),\n",
       " ('draw',\n",
       "  <function hypernetx.drawing.rubber_band.draw(H, pos=None, with_color=True, with_node_counts=False, with_edge_counts=False, layout=<function spring_layout at 0x1324a4540>, layout_kwargs={}, ax=None, node_radius=None, edges_kwargs={}, nodes_kwargs={}, edge_labels_on_edge=True, edge_labels={}, edge_labels_kwargs={}, node_labels={}, node_labels_kwargs={}, with_edge_labels=True, with_node_labels=True, node_label_alpha=0.35, edge_label_alpha=0.35, with_additional_edges=None, additional_edges_kwargs={}, return_pos=False)>),\n",
       " ('draw_two_column',\n",
       "  <function hypernetx.drawing.two_column.draw(H, with_node_labels=True, with_edge_labels=True, with_node_counts=False, with_edge_counts=False, with_color=True, edge_kwargs=None, ax=None)>),\n",
       " ('edge_size_dist',\n",
       "  <function hypernetx.reports.descriptive_stats.edge_size_dist(H, aggregated=False)>),\n",
       " ('erdos_renyi_hypergraph',\n",
       "  <function hypernetx.algorithms.generative_models.erdos_renyi_hypergraph(n, m, p, node_labels=None, edge_labels=None)>),\n",
       " ('get_pi', <function hypernetx.algorithms.laplacians_clustering.get_pi(P)>),\n",
       " ('homology_basis',\n",
       "  <function hypernetx.algorithms.homology_mod2.homology_basis(bd, k=None, boundary=False, **kwargs)>),\n",
       " ('hypergraph_homology_basis',\n",
       "  <function hypernetx.algorithms.homology_mod2.hypergraph_homology_basis(h, k=None, shortest=False, interpreted=True)>),\n",
       " ('individual_contagion',\n",
       "  <function hypernetx.algorithms.contagion.individual_contagion(node, status, edge)>),\n",
       " ('info',\n",
       "  <function hypernetx.reports.descriptive_stats.info(H, node=None, edge=None)>),\n",
       " ('info_dict',\n",
       "  <function hypernetx.reports.descriptive_stats.info_dict(H, node=None, edge=None)>),\n",
       " ('interpret',\n",
       "  <function hypernetx.algorithms.homology_mod2.interpret(Ck, arr, labels=None)>),\n",
       " ('kchainbasis',\n",
       "  <function hypernetx.algorithms.homology_mod2.kchainbasis(h, k)>),\n",
       " ('kumar',\n",
       "  <function hypernetx.algorithms.hypergraph_modularity.kumar(HG, delta=0.01, verbose=False)>),\n",
       " ('last_step',\n",
       "  <function hypernetx.algorithms.hypergraph_modularity.last_step(HG, A, wdc=<function linear at 0x17ad6c4a0>, delta=0.01, verbose=False)>),\n",
       " ('lesmis_hypergraph_from_df',\n",
       "  <function hypernetx.utils.toys.lesmis.lesmis_hypergraph_from_df(df, by='Chapter', on='Characters')>),\n",
       " ('linear',\n",
       "  <function hypernetx.algorithms.hypergraph_modularity.linear(d, c)>),\n",
       " ('load_from_pickle',\n",
       "  <function hypernetx.read_write.load_from_pickle(filepath)>),\n",
       " ('logical_dot',\n",
       "  <function hypernetx.algorithms.homology_mod2.logical_dot(ar1, ar2)>),\n",
       " ('logical_matadd',\n",
       "  <function hypernetx.algorithms.homology_mod2.logical_matadd(mat1, mat2)>),\n",
       " ('logical_matmul',\n",
       "  <function hypernetx.algorithms.homology_mod2.logical_matmul(mat1, mat2)>),\n",
       " ('majority',\n",
       "  <function hypernetx.algorithms.hypergraph_modularity.majority(d, c)>),\n",
       " ('majority_vote',\n",
       "  <function hypernetx.algorithms.contagion.majority_vote(node, status, edge)>),\n",
       " ('matmulreduce',\n",
       "  <function hypernetx.algorithms.homology_mod2.matmulreduce(arr, reverse=False)>),\n",
       " ('modularity',\n",
       "  <function hypernetx.algorithms.hypergraph_modularity.modularity(HG, A, wdc=<function linear at 0x17ad6c4a0>)>),\n",
       " ('norm_lap',\n",
       "  <function hypernetx.algorithms.laplacians_clustering.norm_lap(H, weights=False, index=True)>),\n",
       " ('not_implemented_for',\n",
       "  <function hypernetx.utils.decorators.not_implemented_for(*object_types)>),\n",
       " ('part2dict',\n",
       "  <function hypernetx.algorithms.hypergraph_modularity.part2dict(A)>),\n",
       " ('prob_trans',\n",
       "  <function hypernetx.algorithms.laplacians_clustering.prob_trans(H, weights=False, index=True, check_connected=True)>),\n",
       " ('reduced_row_echelon_form_mod2',\n",
       "  <function hypernetx.algorithms.homology_mod2.reduced_row_echelon_form_mod2(M)>),\n",
       " ('remove_row_duplicates',\n",
       "  <function hypernetx.utils.extras.remove_row_duplicates(data, weights=None, aggregateby='sum')>),\n",
       " ('reverse_dictionary',\n",
       "  <function hypernetx.utils.extras.reverse_dictionary(d)>),\n",
       " ('s_betweenness_centrality',\n",
       "  <function hypernetx.algorithms.s_centrality_measures.s_betweenness_centrality(H, s=1, edges=True, normalized=True, return_singletons=True)>),\n",
       " ('s_closeness_centrality',\n",
       "  <function hypernetx.algorithms.s_centrality_measures.s_closeness_centrality(H, s=1, edges=True, return_singletons=True, source=None)>),\n",
       " ('s_comp_dist',\n",
       "  <function hypernetx.reports.descriptive_stats.s_comp_dist(H, s=1, aggregated=False, edges=True, return_singletons=True)>),\n",
       " ('s_eccentricity',\n",
       "  <function hypernetx.algorithms.s_centrality_measures.s_eccentricity(H, s=1, edges=True, source=None, return_singletons=True)>),\n",
       " ('s_edge_diameter_dist',\n",
       "  <function hypernetx.reports.descriptive_stats.s_edge_diameter_dist(H)>),\n",
       " ('s_harmonic_centrality',\n",
       "  <function hypernetx.algorithms.s_centrality_measures.s_harmonic_centrality(H, s=1, edges=True, source=None, normalized=False, return_singletons=True)>),\n",
       " ('s_harmonic_closeness_centrality',\n",
       "  <function hypernetx.algorithms.s_centrality_measures.s_harmonic_closeness_centrality(H, s=1, edge=None)>),\n",
       " ('s_node_diameter_dist',\n",
       "  <function hypernetx.reports.descriptive_stats.s_node_diameter_dist(H)>),\n",
       " ('smith_normal_form_mod2',\n",
       "  <function hypernetx.algorithms.homology_mod2.smith_normal_form_mod2(M)>),\n",
       " ('spec_clus',\n",
       "  <function hypernetx.algorithms.laplacians_clustering.spec_clus(H, k, existing_lap=None, weights=False)>),\n",
       " ('strict',\n",
       "  <function hypernetx.algorithms.hypergraph_modularity.strict(d, c)>),\n",
       " ('swap_columns',\n",
       "  <function hypernetx.algorithms.homology_mod2.swap_columns(i, j, *args)>),\n",
       " ('swap_rows',\n",
       "  <function hypernetx.algorithms.homology_mod2.swap_rows(i, j, *args)>),\n",
       " ('threshold',\n",
       "  <function hypernetx.algorithms.contagion.threshold(node, status, edge, tau=0.1)>),\n",
       " ('to_pickle', <function hypernetx.read_write.to_pickle(obj, filename)>),\n",
       " ('toplex_dist',\n",
       "  <function hypernetx.reports.descriptive_stats.toplex_dist(H, aggregated=False)>),\n",
       " ('two_section',\n",
       "  <function hypernetx.algorithms.hypergraph_modularity.two_section(HG)>)]"
      ]
     },
     "execution_count": 5,
     "metadata": {},
     "output_type": "execute_result"
    }
   ],
   "source": [
    "inspect.getmembers(hypernetx, inspect.isfunction)"
   ]
  },
  {
   "cell_type": "code",
   "execution_count": 6,
   "metadata": {},
   "outputs": [
    {
     "data": {
      "text/plain": [
       "[('show_config', <function scipy.__config__.show(mode='stdout')>)]"
      ]
     },
     "execution_count": 6,
     "metadata": {},
     "output_type": "execute_result"
    }
   ],
   "source": [
    "inspect.getmembers(scipy, inspect.isfunction)"
   ]
  },
  {
   "cell_type": "code",
   "execution_count": 7,
   "metadata": {},
   "outputs": [
    {
     "data": {
      "text/plain": [
       "[('cluster',\n",
       "  <module 'scipy.cluster' from '/Users/arnoudb/function-dashboard/.venv/lib/python3.12/site-packages/scipy/cluster/__init__.py'>),\n",
       " ('constants',\n",
       "  <module 'scipy.constants' from '/Users/arnoudb/function-dashboard/.venv/lib/python3.12/site-packages/scipy/constants/__init__.py'>),\n",
       " ('datasets',\n",
       "  <module 'scipy.datasets' from '/Users/arnoudb/function-dashboard/.venv/lib/python3.12/site-packages/scipy/datasets/__init__.py'>),\n",
       " ('fft',\n",
       "  <module 'scipy.fft' from '/Users/arnoudb/function-dashboard/.venv/lib/python3.12/site-packages/scipy/fft/__init__.py'>),\n",
       " ('fftpack',\n",
       "  <module 'scipy.fftpack' from '/Users/arnoudb/function-dashboard/.venv/lib/python3.12/site-packages/scipy/fftpack/__init__.py'>),\n",
       " ('integrate',\n",
       "  <module 'scipy.integrate' from '/Users/arnoudb/function-dashboard/.venv/lib/python3.12/site-packages/scipy/integrate/__init__.py'>),\n",
       " ('interpolate',\n",
       "  <module 'scipy.interpolate' from '/Users/arnoudb/function-dashboard/.venv/lib/python3.12/site-packages/scipy/interpolate/__init__.py'>),\n",
       " ('io',\n",
       "  <module 'scipy.io' from '/Users/arnoudb/function-dashboard/.venv/lib/python3.12/site-packages/scipy/io/__init__.py'>),\n",
       " ('linalg',\n",
       "  <module 'scipy.linalg' from '/Users/arnoudb/function-dashboard/.venv/lib/python3.12/site-packages/scipy/linalg/__init__.py'>),\n",
       " ('misc',\n",
       "  <module 'scipy.misc' from '/Users/arnoudb/function-dashboard/.venv/lib/python3.12/site-packages/scipy/misc/__init__.py'>),\n",
       " ('ndimage',\n",
       "  <module 'scipy.ndimage' from '/Users/arnoudb/function-dashboard/.venv/lib/python3.12/site-packages/scipy/ndimage/__init__.py'>),\n",
       " ('odr',\n",
       "  <module 'scipy.odr' from '/Users/arnoudb/function-dashboard/.venv/lib/python3.12/site-packages/scipy/odr/__init__.py'>),\n",
       " ('optimize',\n",
       "  <module 'scipy.optimize' from '/Users/arnoudb/function-dashboard/.venv/lib/python3.12/site-packages/scipy/optimize/__init__.py'>),\n",
       " ('signal',\n",
       "  <module 'scipy.signal' from '/Users/arnoudb/function-dashboard/.venv/lib/python3.12/site-packages/scipy/signal/__init__.py'>),\n",
       " ('sparse',\n",
       "  <module 'scipy.sparse' from '/Users/arnoudb/function-dashboard/.venv/lib/python3.12/site-packages/scipy/sparse/__init__.py'>),\n",
       " ('spatial',\n",
       "  <module 'scipy.spatial' from '/Users/arnoudb/function-dashboard/.venv/lib/python3.12/site-packages/scipy/spatial/__init__.py'>),\n",
       " ('special',\n",
       "  <module 'scipy.special' from '/Users/arnoudb/function-dashboard/.venv/lib/python3.12/site-packages/scipy/special/__init__.py'>),\n",
       " ('stats',\n",
       "  <module 'scipy.stats' from '/Users/arnoudb/function-dashboard/.venv/lib/python3.12/site-packages/scipy/stats/__init__.py'>)]"
      ]
     },
     "execution_count": 7,
     "metadata": {},
     "output_type": "execute_result"
    }
   ],
   "source": [
    "inspect.getmembers(scipy, inspect.ismodule)"
   ]
  },
  {
   "cell_type": "code",
   "execution_count": 8,
   "metadata": {},
   "outputs": [
    {
     "data": {
      "text/plain": [
       "[('cumtrapz',\n",
       "  <function scipy.integrate._quadrature.cumtrapz(y, x=None, dx=1.0, axis=-1, initial=None)>),\n",
       " ('cumulative_simpson',\n",
       "  <function scipy.integrate._quadrature.cumulative_simpson(y, *, x=None, dx=1.0, axis=-1, initial=None)>),\n",
       " ('cumulative_trapezoid',\n",
       "  <function scipy.integrate._quadrature.cumulative_trapezoid(y, x=None, dx=1.0, axis=-1, initial=None)>),\n",
       " ('dblquad',\n",
       "  <function scipy.integrate._quadpack_py.dblquad(func, a, b, gfun, hfun, args=(), epsabs=1.49e-08, epsrel=1.49e-08)>),\n",
       " ('fixed_quad',\n",
       "  <function scipy.integrate._quadrature.fixed_quad(func, a, b, args=(), n=5)>),\n",
       " ('newton_cotes',\n",
       "  <function scipy.integrate._quadrature.newton_cotes(rn, equal=0)>),\n",
       " ('nquad',\n",
       "  <function scipy.integrate._quadpack_py.nquad(func, ranges, args=None, opts=None, full_output=False)>),\n",
       " ('odeint',\n",
       "  <function scipy.integrate._odepack_py.odeint(func, y0, t, args=(), Dfun=None, col_deriv=0, full_output=0, ml=None, mu=None, rtol=None, atol=None, tcrit=None, h0=0.0, hmax=0.0, hmin=0.0, ixpr=0, mxstep=0, mxhnil=0, mxordn=12, mxords=5, printmessg=0, tfirst=False)>),\n",
       " ('qmc_quad',\n",
       "  <function scipy.integrate._quadrature.qmc_quad(func, a, b, *, n_estimates=8, n_points=1024, qrng=None, log=False)>),\n",
       " ('quad',\n",
       "  <function scipy.integrate._quadpack_py.quad(func, a, b, args=(), full_output=0, epsabs=1.49e-08, epsrel=1.49e-08, limit=50, points=None, weight=None, wvar=None, wopts=None, maxp1=50, limlst=50, complex_func=False)>),\n",
       " ('quad_vec',\n",
       "  <function scipy.integrate._quad_vec.quad_vec(f, a, b, epsabs=1e-200, epsrel=1e-08, norm='2', cache_size=100000000.0, limit=10000, workers=1, points=None, quadrature=None, full_output=False, *, args=())>),\n",
       " ('quadrature',\n",
       "  <function scipy.integrate._quadrature.quadrature(func, a, b, args=(), tol=1.49e-08, rtol=1.49e-08, maxiter=50, vec_func=True, miniter=1)>),\n",
       " ('romb',\n",
       "  <function scipy.integrate._quadrature.romb(y, dx=1.0, axis=-1, show=False)>),\n",
       " ('romberg',\n",
       "  <function scipy.integrate._quadrature.romberg(function, a, b, args=(), tol=1.48e-08, rtol=1.48e-08, show=False, divmax=10, vec_func=False)>),\n",
       " ('simps',\n",
       "  <function scipy.integrate._quadrature.simps(y, x=None, dx=1.0, axis=-1, even=<object object at 0x1222283d0>)>),\n",
       " ('simpson',\n",
       "  <function scipy.integrate._quadrature.simpson(y, *, x=None, dx=1.0, axis=-1, even=<object object at 0x1222283d0>)>),\n",
       " ('solve_bvp',\n",
       "  <function scipy.integrate._bvp.solve_bvp(fun, bc, x, y, p=None, S=None, fun_jac=None, bc_jac=None, tol=0.001, max_nodes=1000, verbose=0, bc_tol=None)>),\n",
       " ('solve_ivp',\n",
       "  <function scipy.integrate._ivp.ivp.solve_ivp(fun, t_span, y0, method='RK45', t_eval=None, dense_output=False, events=None, vectorized=False, args=None, **options)>),\n",
       " ('tplquad',\n",
       "  <function scipy.integrate._quadpack_py.tplquad(func, a, b, gfun, hfun, qfun, rfun, args=(), epsabs=1.49e-08, epsrel=1.49e-08)>),\n",
       " ('trapezoid',\n",
       "  <function scipy.integrate._quadrature.trapezoid(y, x=None, dx=1.0, axis=-1)>),\n",
       " ('trapz',\n",
       "  <function scipy.integrate._quadrature.trapz(y, x=None, dx=1.0, axis=-1)>)]"
      ]
     },
     "execution_count": 8,
     "metadata": {},
     "output_type": "execute_result"
    }
   ],
   "source": [
    "inspect.getmembers(scipy.integrate, inspect.isfunction)"
   ]
  },
  {
   "cell_type": "code",
   "execution_count": null,
   "metadata": {},
   "outputs": [],
   "source": []
  }
 ],
 "metadata": {
  "kernelspec": {
   "display_name": ".venv",
   "language": "python",
   "name": "python3"
  },
  "language_info": {
   "codemirror_mode": {
    "name": "ipython",
    "version": 3
   },
   "file_extension": ".py",
   "mimetype": "text/x-python",
   "name": "python",
   "nbconvert_exporter": "python",
   "pygments_lexer": "ipython3",
   "version": "3.12.3"
  }
 },
 "nbformat": 4,
 "nbformat_minor": 2
}
